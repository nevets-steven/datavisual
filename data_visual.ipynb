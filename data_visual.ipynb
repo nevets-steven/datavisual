{
 "cells": [
  {
   "cell_type": "code",
   "execution_count": 1,
   "metadata": {
    "id": "g05Uq3uCgGR_"
   },
   "outputs": [],
   "source": [
    "import pandas as pd\n",
    "url = 'https://raw.githubusercontent.com/fivethirtyeight/data/master/flying-etiquette-survey/flying-etiquette.csv'\n",
    "df = pd.read_csv(url)\n"
   ]
  },
  {
   "cell_type": "code",
   "execution_count": 2,
   "metadata": {
    "colab": {
     "base_uri": "https://localhost:8080/"
    },
    "id": "57AbnPDIgeRa",
    "outputId": "31c2dce7-21b8-45e8-e80e-a5eb95fad93d"
   },
   "outputs": [
    {
     "name": "stdout",
     "output_type": "stream",
     "text": [
      "<class 'pandas.core.frame.DataFrame'>\n",
      "RangeIndex: 1040 entries, 0 to 1039\n",
      "Data columns (total 27 columns):\n",
      " #   Column                                                                                                                                    Non-Null Count  Dtype \n",
      "---  ------                                                                                                                                    --------------  ----- \n",
      " 0   RespondentID                                                                                                                              1040 non-null   int64 \n",
      " 1   How often do you travel by plane?                                                                                                         1040 non-null   object\n",
      " 2   Do you ever recline your seat when you fly?                                                                                               858 non-null    object\n",
      " 3   How tall are you?                                                                                                                         858 non-null    object\n",
      " 4   Do you have any children under 18?                                                                                                        851 non-null    object\n",
      " 5   In a row of three seats, who should get to use the two arm rests?                                                                         856 non-null    object\n",
      " 6   In a row of two seats, who should get to use the middle arm rest?                                                                         856 non-null    object\n",
      " 7   Who should have control over the window shade?                                                                                            856 non-null    object\n",
      " 8   Is itrude to move to an unsold seat on a plane?                                                                                           855 non-null    object\n",
      " 9   Generally speaking, is it rude to say more than a few words tothe stranger sitting next to you on a plane?                                855 non-null    object\n",
      " 10  On a 6 hour flight from NYC to LA, how many times is it acceptable to get up if you're not in an aisle seat?                              855 non-null    object\n",
      " 11  Under normal circumstances, does a person who reclines their seat during a flight have any obligation to the person sitting behind them?  854 non-null    object\n",
      " 12  Is itrude to recline your seat on a plane?                                                                                                854 non-null    object\n",
      " 13  Given the opportunity, would you eliminate the possibility of reclining seats on planes entirely?                                         854 non-null    object\n",
      " 14  Is it rude to ask someone to switch seats with you in order to be closer to friends?                                                      850 non-null    object\n",
      " 15  Is itrude to ask someone to switch seats with you in order to be closer to family?                                                        850 non-null    object\n",
      " 16  Is it rude to wake a passenger up if you are trying to go to the bathroom?                                                                850 non-null    object\n",
      " 17  Is itrude to wake a passenger up if you are trying to walk around?                                                                        850 non-null    object\n",
      " 18  In general, is itrude to bring a baby on a plane?                                                                                         849 non-null    object\n",
      " 19  In general, is it rude to knowingly bring unruly children on a plane?                                                                     849 non-null    object\n",
      " 20  Have you ever used personal electronics during take off or landing in violation of a flight attendant's direction?                        849 non-null    object\n",
      " 21  Have you ever smoked a cigarette in an airplane bathroom when it was against the rules?                                                   849 non-null    object\n",
      " 22  Gender                                                                                                                                    1007 non-null   object\n",
      " 23  Age                                                                                                                                       1007 non-null   object\n",
      " 24  Household Income                                                                                                                          826 non-null    object\n",
      " 25  Education                                                                                                                                 1001 non-null   object\n",
      " 26  Location (Census Region)                                                                                                                  998 non-null    object\n",
      "dtypes: int64(1), object(26)\n",
      "memory usage: 219.5+ KB\n"
     ]
    }
   ],
   "source": [
    "df.info()"
   ]
  },
  {
   "cell_type": "code",
   "execution_count": 3,
   "metadata": {
    "id": "KUb-zie-gf82"
   },
   "outputs": [],
   "source": [
    "import seaborn as sns"
   ]
  },
  {
   "cell_type": "code",
   "execution_count": 4,
   "metadata": {
    "id": "KAM3TpJCg3WX"
   },
   "outputs": [],
   "source": [
    "# renaming all the columns"
   ]
  },
  {
   "cell_type": "code",
   "execution_count": 5,
   "metadata": {
    "id": "YCgWKn19g9ki"
   },
   "outputs": [],
   "source": [
    "column_map = {\n",
    "    'How often do you travel by plane?': 'Frlying Frequency',\n",
    "    'Do you ever recline your seat when you fly?': 'Use Recliner',\n",
    "    'How tall are you?': 'Height',\n",
    "    'Do you have any children under 18?': 'Chidren Under 18',\n",
    "    'In a row of three seats, who should get to use the two arm rests?': '2 Arm Rest',\n",
    "    'In a row of two seats, who should get to use the middle arm rest?': 'Mid Arm Rest',\n",
    "    'Who should have control over the window shade?': 'Window Shade Control',\n",
    "    'Is itrude to move to an unsold seat on a plane?': 'Move Open Seats',\n",
    "    'Generally speaking, is it rude to say more than a few words tothe stranger sitting next to you on a plane?': 'Talking',\n",
    "    \"On a 6 hour flight from NYC to LA, how many times is it acceptable to get up if you're not in an aisle seat?\": 'Getting Up',\n",
    "    'Under normal circumstances, does a person who reclines their seat during a flight have any obligation to the person sitting behind them?': 'Recliner Obligation',\n",
    "    'Is itrude to recline your seat on a plane?':'Rude To Recline',\n",
    "    'Given the opportunity, would you eliminate the possibility of reclining seats on planes entirely?': 'Eliminate Recline',\n",
    "    'Is it rude to ask someone to switch seats with you in order to be closer to friends?': 'Switch For Friends',\n",
    "    'Is itrude to ask someone to switch seats with you in order to be closer to family?':'Switch For Family',\n",
    "    'Is it rude to wake a passenger up if you are trying to go to the bathroom?': 'Wake Passenger Bathroom',\n",
    "    'Is itrude to wake a passenger up if you are trying to walk around?': 'Wake Passenger Walk',\n",
    "    'In general, is itrude to bring a baby on a plane?': 'Baby',\n",
    "    'In general, is it rude to knowingly bring unruly children on a plane?': 'Unruly Child',\n",
    "    \"Have you ever used personal electronics during take off or landing in violation of a flight attendant's direction?\":'Ignore Flight Attendant',\n",
    "    'Have you ever smoked a cigarette in an airplane bathroom when it was against the rules?':'Smoked In Bathroom'\n",
    "}\n",
    "\n",
    "df = df.rename(columns=column_map)"
   ]
  },
  {
   "cell_type": "code",
   "execution_count": 6,
   "metadata": {
    "colab": {
     "base_uri": "https://localhost:8080/",
     "height": 820
    },
    "id": "k-5Zr1Yghl-N",
    "outputId": "959b11af-435e-44a1-c62a-4561b5c2c1e7"
   },
   "outputs": [
    {
     "data": {
      "text/html": [
       "<div>\n",
       "<style scoped>\n",
       "    .dataframe tbody tr th:only-of-type {\n",
       "        vertical-align: middle;\n",
       "    }\n",
       "\n",
       "    .dataframe tbody tr th {\n",
       "        vertical-align: top;\n",
       "    }\n",
       "\n",
       "    .dataframe thead th {\n",
       "        text-align: right;\n",
       "    }\n",
       "</style>\n",
       "<table border=\"1\" class=\"dataframe\">\n",
       "  <thead>\n",
       "    <tr style=\"text-align: right;\">\n",
       "      <th></th>\n",
       "      <th>RespondentID</th>\n",
       "      <th>Frlying Frequency</th>\n",
       "      <th>Use Recliner</th>\n",
       "      <th>Height</th>\n",
       "      <th>Chidren Under 18</th>\n",
       "      <th>2 Arm Rest</th>\n",
       "      <th>Mid Arm Rest</th>\n",
       "      <th>Window Shade Control</th>\n",
       "      <th>Move Open Seats</th>\n",
       "      <th>Talking</th>\n",
       "      <th>...</th>\n",
       "      <th>Wake Passenger Walk</th>\n",
       "      <th>Baby</th>\n",
       "      <th>Unruly Child</th>\n",
       "      <th>Ignore Flight Attendant</th>\n",
       "      <th>Smoked In Bathroom</th>\n",
       "      <th>Gender</th>\n",
       "      <th>Age</th>\n",
       "      <th>Household Income</th>\n",
       "      <th>Education</th>\n",
       "      <th>Location (Census Region)</th>\n",
       "    </tr>\n",
       "  </thead>\n",
       "  <tbody>\n",
       "    <tr>\n",
       "      <th>0</th>\n",
       "      <td>3436139758</td>\n",
       "      <td>Once a year or less</td>\n",
       "      <td>NaN</td>\n",
       "      <td>NaN</td>\n",
       "      <td>NaN</td>\n",
       "      <td>NaN</td>\n",
       "      <td>NaN</td>\n",
       "      <td>NaN</td>\n",
       "      <td>NaN</td>\n",
       "      <td>NaN</td>\n",
       "      <td>...</td>\n",
       "      <td>NaN</td>\n",
       "      <td>NaN</td>\n",
       "      <td>NaN</td>\n",
       "      <td>NaN</td>\n",
       "      <td>NaN</td>\n",
       "      <td>NaN</td>\n",
       "      <td>NaN</td>\n",
       "      <td>NaN</td>\n",
       "      <td>NaN</td>\n",
       "      <td>NaN</td>\n",
       "    </tr>\n",
       "    <tr>\n",
       "      <th>1</th>\n",
       "      <td>3434278696</td>\n",
       "      <td>Once a year or less</td>\n",
       "      <td>About half the time</td>\n",
       "      <td>6'3\"</td>\n",
       "      <td>Yes</td>\n",
       "      <td>The arm rests should be shared</td>\n",
       "      <td>The arm rests should be shared</td>\n",
       "      <td>Everyone in the row should have some say</td>\n",
       "      <td>No, not rude at all</td>\n",
       "      <td>No, not at all rude</td>\n",
       "      <td>...</td>\n",
       "      <td>No, not at all rude</td>\n",
       "      <td>No, not at all rude</td>\n",
       "      <td>No, not at all rude</td>\n",
       "      <td>No</td>\n",
       "      <td>No</td>\n",
       "      <td>Male</td>\n",
       "      <td>30-44</td>\n",
       "      <td>NaN</td>\n",
       "      <td>Graduate degree</td>\n",
       "      <td>Pacific</td>\n",
       "    </tr>\n",
       "    <tr>\n",
       "      <th>2</th>\n",
       "      <td>3434275578</td>\n",
       "      <td>Once a year or less</td>\n",
       "      <td>Usually</td>\n",
       "      <td>5'8\"</td>\n",
       "      <td>No</td>\n",
       "      <td>Whoever puts their arm on the arm rest first</td>\n",
       "      <td>The arm rests should be shared</td>\n",
       "      <td>The person in the window seat should have excl...</td>\n",
       "      <td>No, not rude at all</td>\n",
       "      <td>No, not at all rude</td>\n",
       "      <td>...</td>\n",
       "      <td>Yes, somewhat rude</td>\n",
       "      <td>Yes, somewhat rude</td>\n",
       "      <td>Yes, very rude</td>\n",
       "      <td>No</td>\n",
       "      <td>No</td>\n",
       "      <td>Male</td>\n",
       "      <td>30-44</td>\n",
       "      <td>$100,000 - $149,999</td>\n",
       "      <td>Bachelor degree</td>\n",
       "      <td>Pacific</td>\n",
       "    </tr>\n",
       "    <tr>\n",
       "      <th>3</th>\n",
       "      <td>3434268208</td>\n",
       "      <td>Once a year or less</td>\n",
       "      <td>Always</td>\n",
       "      <td>5'11\"</td>\n",
       "      <td>No</td>\n",
       "      <td>The arm rests should be shared</td>\n",
       "      <td>The arm rests should be shared</td>\n",
       "      <td>Everyone in the row should have some say</td>\n",
       "      <td>No, not rude at all</td>\n",
       "      <td>No, not at all rude</td>\n",
       "      <td>...</td>\n",
       "      <td>Yes, somewhat rude</td>\n",
       "      <td>Yes, somewhat rude</td>\n",
       "      <td>Yes, very rude</td>\n",
       "      <td>No</td>\n",
       "      <td>No</td>\n",
       "      <td>Male</td>\n",
       "      <td>30-44</td>\n",
       "      <td>$0 - $24,999</td>\n",
       "      <td>Bachelor degree</td>\n",
       "      <td>Pacific</td>\n",
       "    </tr>\n",
       "    <tr>\n",
       "      <th>4</th>\n",
       "      <td>3434250245</td>\n",
       "      <td>Once a month or less</td>\n",
       "      <td>About half the time</td>\n",
       "      <td>5'7\"</td>\n",
       "      <td>No</td>\n",
       "      <td>The person in the middle seat gets both arm rests</td>\n",
       "      <td>The person in aisle</td>\n",
       "      <td>Everyone in the row should have some say</td>\n",
       "      <td>No, not rude at all</td>\n",
       "      <td>No, not at all rude</td>\n",
       "      <td>...</td>\n",
       "      <td>Yes, somewhat rude</td>\n",
       "      <td>Yes, somewhat rude</td>\n",
       "      <td>Yes, very rude</td>\n",
       "      <td>Yes</td>\n",
       "      <td>No</td>\n",
       "      <td>Male</td>\n",
       "      <td>30-44</td>\n",
       "      <td>$50,000 - $99,999</td>\n",
       "      <td>Bachelor degree</td>\n",
       "      <td>Pacific</td>\n",
       "    </tr>\n",
       "  </tbody>\n",
       "</table>\n",
       "<p>5 rows × 27 columns</p>\n",
       "</div>"
      ],
      "text/plain": [
       "   RespondentID     Frlying Frequency         Use Recliner Height  \\\n",
       "0    3436139758   Once a year or less                  NaN    NaN   \n",
       "1    3434278696   Once a year or less  About half the time   6'3\"   \n",
       "2    3434275578   Once a year or less              Usually   5'8\"   \n",
       "3    3434268208   Once a year or less               Always  5'11\"   \n",
       "4    3434250245  Once a month or less  About half the time   5'7\"   \n",
       "\n",
       "  Chidren Under 18                                         2 Arm Rest  \\\n",
       "0              NaN                                                NaN   \n",
       "1              Yes                     The arm rests should be shared   \n",
       "2               No       Whoever puts their arm on the arm rest first   \n",
       "3               No                     The arm rests should be shared   \n",
       "4               No  The person in the middle seat gets both arm rests   \n",
       "\n",
       "                     Mid Arm Rest  \\\n",
       "0                             NaN   \n",
       "1  The arm rests should be shared   \n",
       "2  The arm rests should be shared   \n",
       "3  The arm rests should be shared   \n",
       "4             The person in aisle   \n",
       "\n",
       "                                Window Shade Control      Move Open Seats  \\\n",
       "0                                                NaN                  NaN   \n",
       "1           Everyone in the row should have some say  No, not rude at all   \n",
       "2  The person in the window seat should have excl...  No, not rude at all   \n",
       "3           Everyone in the row should have some say  No, not rude at all   \n",
       "4           Everyone in the row should have some say  No, not rude at all   \n",
       "\n",
       "               Talking  ...  Wake Passenger Walk                 Baby  \\\n",
       "0                  NaN  ...                  NaN                  NaN   \n",
       "1  No, not at all rude  ...  No, not at all rude  No, not at all rude   \n",
       "2  No, not at all rude  ...   Yes, somewhat rude   Yes, somewhat rude   \n",
       "3  No, not at all rude  ...   Yes, somewhat rude   Yes, somewhat rude   \n",
       "4  No, not at all rude  ...   Yes, somewhat rude   Yes, somewhat rude   \n",
       "\n",
       "          Unruly Child Ignore Flight Attendant Smoked In Bathroom Gender  \\\n",
       "0                  NaN                     NaN                NaN    NaN   \n",
       "1  No, not at all rude                      No                 No   Male   \n",
       "2       Yes, very rude                      No                 No   Male   \n",
       "3       Yes, very rude                      No                 No   Male   \n",
       "4       Yes, very rude                     Yes                 No   Male   \n",
       "\n",
       "     Age     Household Income        Education Location (Census Region)  \n",
       "0    NaN                  NaN              NaN                      NaN  \n",
       "1  30-44                  NaN  Graduate degree                  Pacific  \n",
       "2  30-44  $100,000 - $149,999  Bachelor degree                  Pacific  \n",
       "3  30-44         $0 - $24,999  Bachelor degree                  Pacific  \n",
       "4  30-44    $50,000 - $99,999  Bachelor degree                  Pacific  \n",
       "\n",
       "[5 rows x 27 columns]"
      ]
     },
     "execution_count": 6,
     "metadata": {},
     "output_type": "execute_result"
    }
   ],
   "source": [
    "df.head()"
   ]
  },
  {
   "cell_type": "code",
   "execution_count": 7,
   "metadata": {
    "colab": {
     "base_uri": "https://localhost:8080/"
    },
    "id": "RFXQ4VyVlA1B",
    "outputId": "d8023535-dadc-4118-e385-82871598fb30",
    "scrolled": true
   },
   "outputs": [
    {
     "name": "stdout",
     "output_type": "stream",
     "text": [
      "<class 'pandas.core.frame.DataFrame'>\n",
      "RangeIndex: 1040 entries, 0 to 1039\n",
      "Data columns (total 27 columns):\n",
      " #   Column                    Non-Null Count  Dtype \n",
      "---  ------                    --------------  ----- \n",
      " 0   RespondentID              1040 non-null   int64 \n",
      " 1   Frlying Frequency         1040 non-null   object\n",
      " 2   Use Recliner              858 non-null    object\n",
      " 3   Height                    858 non-null    object\n",
      " 4   Chidren Under 18          851 non-null    object\n",
      " 5   2 Arm Rest                856 non-null    object\n",
      " 6   Mid Arm Rest              856 non-null    object\n",
      " 7   Window Shade Control      856 non-null    object\n",
      " 8   Move Open Seats           855 non-null    object\n",
      " 9   Talking                   855 non-null    object\n",
      " 10  Getting Up                855 non-null    object\n",
      " 11  Recliner Obligation       854 non-null    object\n",
      " 12  Rude To Recline           854 non-null    object\n",
      " 13  Eliminate Recline         854 non-null    object\n",
      " 14  Switch For Friends        850 non-null    object\n",
      " 15  Switch For Family         850 non-null    object\n",
      " 16  Wake Passenger Bathroom   850 non-null    object\n",
      " 17  Wake Passenger Walk       850 non-null    object\n",
      " 18  Baby                      849 non-null    object\n",
      " 19  Unruly Child              849 non-null    object\n",
      " 20  Ignore Flight Attendant   849 non-null    object\n",
      " 21  Smoked In Bathroom        849 non-null    object\n",
      " 22  Gender                    1007 non-null   object\n",
      " 23  Age                       1007 non-null   object\n",
      " 24  Household Income          826 non-null    object\n",
      " 25  Education                 1001 non-null   object\n",
      " 26  Location (Census Region)  998 non-null    object\n",
      "dtypes: int64(1), object(26)\n",
      "memory usage: 219.5+ KB\n"
     ]
    }
   ],
   "source": [
    "df.info()"
   ]
  },
  {
   "cell_type": "markdown",
   "metadata": {
    "id": "67GMc43Fm_Yl"
   },
   "source": [
    "Plotting starts here"
   ]
  },
  {
   "cell_type": "code",
   "execution_count": 8,
   "metadata": {
    "id": "bGB4AerTnDaC"
   },
   "outputs": [],
   "source": [
    "import seaborn as sns\n",
    "import matplotlib.pyplot as plt\n",
    "%matplotlib inline\n"
   ]
  },
  {
   "cell_type": "code",
   "execution_count": 16,
   "metadata": {
    "colab": {
     "base_uri": "https://localhost:8080/",
     "height": 523
    },
    "id": "36FO93pMnvWG",
    "outputId": "695e89cb-e703-4789-f828-72d4268cc7d2"
   },
   "outputs": [
    {
     "data": {
      "image/png": "[encoded data removed]",
      "text/plain": [
       "<Figure size 640x480 with 1 Axes>"
      ]
     },
     "metadata": {},
     "output_type": "display_data"
    }
   ],
   "source": [
    "sns.countplot(x='Age', data=df, color='lightblue', order=['18-29', '30-44', '45-60', '> 60'])\n",
    "plt.title('NUmber of Participants by Age Range')\n",
    "plt.show()"
   ]
  },
  {
   "cell_type": "code",
   "execution_count": 17,
   "metadata": {
    "id": "eqbMr1xuqLVu"
   },
   "outputs": [],
   "source": [
    "## Question 2"
   ]
  },
  {
   "cell_type": "code",
   "execution_count": 28,
   "metadata": {},
   "outputs": [
    {
     "data": {
      "image/png": "[encoded data removed]",
      "text/plain": [
       "<Figure size 640x480 with 1 Axes>"
      ]
     },
     "metadata": {},
     "output_type": "display_data"
    }
   ],
   "source": [
    "sns.histplot(data=df, x ='Switch For Friends', stat='percent')\n",
    "plt.title('Is it rude to switch seats to be cloer to friends')\n",
    "plt.show()"
   ]
  },
  {
   "cell_type": "code",
   "execution_count": 29,
   "metadata": {},
   "outputs": [],
   "source": [
    "### Question 3"
   ]
  },
  {
   "cell_type": "code",
   "execution_count": 36,
   "metadata": {},
   "outputs": [
    {
     "data": {
      "text/plain": [
       "<seaborn.axisgrid.FacetGrid at 0x7fc913029100>"
      ]
     },
     "execution_count": 36,
     "metadata": {},
     "output_type": "execute_result"
    },
    {
     "data": {
      "image/png": "[encoded data removed]",
      "text/plain": [
       "<Figure size 1250x1000 with 4 Axes>"
      ]
     },
     "metadata": {},
     "output_type": "display_data"
    }
   ],
   "source": [
    "sns.displot(data=df,\n",
    "           x='Switch For Friends',\n",
    "           stat='percent',\n",
    "            col='Age',\n",
    "            col_order=['18-29', '30-44', '45-60', '> 60'],\n",
    "            aspect=1.25,\n",
    "            height=5,\n",
    "            col_wrap=2\n",
    "           )\n"
   ]
  },
  {
   "cell_type": "code",
   "execution_count": null,
   "metadata": {},
   "outputs": [],
   "source": []
  }
 ],
 "metadata": {
  "colab": {
   "provenance": []
  },
  "kernelspec": {
   "display_name": "Python 3 (ipykernel)",
   "language": "python",
   "name": "python3"
  },
  "language_info": {
   "codemirror_mode": {
    "name": "ipython",
    "version": 3
   },
   "file_extension": ".py",
   "mimetype": "text/x-python",
   "name": "python",
   "nbconvert_exporter": "python",
   "pygments_lexer": "ipython3",
   "version": "3.9.13"
  }
 },
 "nbformat": 4,
 "nbformat_minor": 4
}
